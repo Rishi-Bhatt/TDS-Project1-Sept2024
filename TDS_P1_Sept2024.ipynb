{
  "nbformat": 4,
  "nbformat_minor": 0,
  "metadata": {
    "colab": {
      "provenance": []
    },
    "kernelspec": {
      "name": "python3",
      "display_name": "Python 3"
    },
    "language_info": {
      "name": "python"
    }
  },
  "cells": [
    {
      "cell_type": "code",
      "execution_count": null,
      "metadata": {
        "id": "v8c9sE3RtB0I"
      },
      "outputs": [],
      "source": [
        "import pandas as pd\n",
        "\n",
        "# Load users and repositories data\n",
        "users_df = pd.read_csv(\"/content/users.csv\")\n",
        "repos_df = pd.read_csv(\"/content/repositories.csv\")\n"
      ]
    },
    {
      "cell_type": "markdown",
      "source": [
        "Question 1: Top 5 Users with the Highest Number of Followers\n"
      ],
      "metadata": {
        "id": "ZKNBF_IOtYzl"
      }
    },
    {
      "cell_type": "code",
      "source": [
        "# Sort users by followers in descending order and select the top 5\n",
        "top_followers = users_df.sort_values(by=\"followers\", ascending=False).head(5)\n",
        "top_followers_logins = \",\".join(top_followers[\"login\"].tolist())\n",
        "print(\"Top 5 users by followers:\", top_followers_logins)\n"
      ],
      "metadata": {
        "colab": {
          "base_uri": "https://localhost:8080/"
        },
        "id": "uIBaWhwntcXb",
        "outputId": "2c4e9da3-0906-4e9b-f365-66bf7355c706"
      },
      "execution_count": null,
      "outputs": [
        {
          "output_type": "stream",
          "name": "stdout",
          "text": [
            "Top 5 users by followers: midudev,ai,raysan5,vfarcic,spite\n"
          ]
        }
      ]
    },
    {
      "cell_type": "markdown",
      "source": [
        "Question 2: 5 Earliest Registered GitHub Users"
      ],
      "metadata": {
        "id": "QXorna1Utg3d"
      }
    },
    {
      "cell_type": "code",
      "source": [
        "# Sort by created_at in ascending order and select the first 5 users\n",
        "earliest_users = users_df.sort_values(by=\"created_at\").head(5)\n",
        "earliest_users_logins = \",\".join(earliest_users[\"login\"].tolist())\n",
        "print(\"Earliest registered users:\", earliest_users_logins)\n"
      ],
      "metadata": {
        "colab": {
          "base_uri": "https://localhost:8080/"
        },
        "id": "NuxZU5OYtkFM",
        "outputId": "36a85a85-77fa-462b-cf28-edaa2a426a2f"
      },
      "execution_count": null,
      "outputs": [
        {
          "output_type": "stream",
          "name": "stdout",
          "text": [
            "Earliest registered users: oleganza,gravityblast,fesplugas,fxn,pauek\n"
          ]
        }
      ]
    },
    {
      "cell_type": "markdown",
      "source": [
        "Question 3: Top 3 Most Popular Licenses"
      ],
      "metadata": {
        "id": "yKsTkrdfttEd"
      }
    },
    {
      "cell_type": "code",
      "source": [
        "# Filter out missing licenses, then count each license type\n",
        "popular_licenses = repos_df[\"license_name\"].dropna().value_counts().head(3)\n",
        "popular_licenses_names = \",\".join(popular_licenses.index.tolist())\n",
        "print(\"Top 3 licenses:\", popular_licenses_names)\n"
      ],
      "metadata": {
        "colab": {
          "base_uri": "https://localhost:8080/"
        },
        "id": "yMQQlMtYtwVl",
        "outputId": "0a585428-8f13-4c96-f360-afe938768ef0"
      },
      "execution_count": null,
      "outputs": [
        {
          "output_type": "stream",
          "name": "stdout",
          "text": [
            "Top 3 licenses: mit,apache-2.0,other\n"
          ]
        }
      ]
    },
    {
      "cell_type": "markdown",
      "source": [
        "Question 4: Company with the Majority of Developers"
      ],
      "metadata": {
        "id": "H6Gv3m6Rt1p8"
      }
    },
    {
      "cell_type": "code",
      "source": [
        "# Exclude null values and find the most common company in the cleaned column\n",
        "majority_company = users_df[\"company\"].dropna().mode()[0]\n",
        "print(\"Company with majority of developers:\", majority_company)\n"
      ],
      "metadata": {
        "colab": {
          "base_uri": "https://localhost:8080/"
        },
        "id": "2BfbsXzJt4j6",
        "outputId": "7129b9cc-44af-4619-cb46-e9219fb143a3"
      },
      "execution_count": null,
      "outputs": [
        {
          "output_type": "stream",
          "name": "stdout",
          "text": [
            "Company with majority of developers: FREELANCE\n"
          ]
        }
      ]
    },
    {
      "cell_type": "markdown",
      "source": [
        "Question 5: Most Popular Programming Language"
      ],
      "metadata": {
        "id": "3FkRc4Vat_nN"
      }
    },
    {
      "cell_type": "code",
      "source": [
        "# Count each programming language, exclude null values\n",
        "popular_language = repos_df[\"language\"].dropna().mode()[0]\n",
        "print(\"Most popular programming language:\", popular_language)\n"
      ],
      "metadata": {
        "colab": {
          "base_uri": "https://localhost:8080/"
        },
        "id": "l78iXbkDuCqh",
        "outputId": "da5d2c5e-ee4e-4ed8-e6e7-b2c0ecc47d87"
      },
      "execution_count": null,
      "outputs": [
        {
          "output_type": "stream",
          "name": "stdout",
          "text": [
            "Most popular programming language: JavaScript\n"
          ]
        }
      ]
    },
    {
      "cell_type": "markdown",
      "source": [
        "Question 6: Second Most Popular Language Among Users Joined After 2020"
      ],
      "metadata": {
        "id": "u7c72y_ZuIuR"
      }
    },
    {
      "cell_type": "code",
      "source": [
        "# Filter users who joined after 2020\n",
        "recent_users = users_df[users_df[\"created_at\"] >= \"2020-01-01\"]\n",
        "# Find repos by these users\n",
        "recent_user_logins = recent_users[\"login\"].tolist()\n",
        "recent_repos = repos_df[repos_df[\"login\"].isin(recent_user_logins)]\n",
        "# Get language popularity\n",
        "second_popular_language = recent_repos[\"language\"].dropna().value_counts().index[1]\n",
        "print(\"Second most popular language after 2020:\", second_popular_language)\n"
      ],
      "metadata": {
        "colab": {
          "base_uri": "https://localhost:8080/"
        },
        "id": "gY3UCsOQuL5r",
        "outputId": "4d6dcc21-7c4c-4422-b704-98c2e1cb1e40"
      },
      "execution_count": null,
      "outputs": [
        {
          "output_type": "stream",
          "name": "stdout",
          "text": [
            "Second most popular language after 2020: Python\n"
          ]
        }
      ]
    },
    {
      "cell_type": "markdown",
      "source": [
        "Question 7: Language with the Highest Average Stars"
      ],
      "metadata": {
        "id": "9v7mqd2CuRo4"
      }
    },
    {
      "cell_type": "code",
      "source": [
        "# Calculate the average stars per language and find the max\n",
        "avg_stars_language = repos_df.groupby(\"language\")[\"stargazers_count\"].mean().idxmax()\n",
        "print(\"Language with highest average stars:\", avg_stars_language)\n"
      ],
      "metadata": {
        "colab": {
          "base_uri": "https://localhost:8080/"
        },
        "id": "T-rRCBjbuUyc",
        "outputId": "f5581b08-35ed-4f24-bb86-fe5a83e89fd6"
      },
      "execution_count": null,
      "outputs": [
        {
          "output_type": "stream",
          "name": "stdout",
          "text": [
            "Language with highest average stars: Vim Script\n"
          ]
        }
      ]
    },
    {
      "cell_type": "markdown",
      "source": [
        "Question 8: Top 5 in Terms of Leader Strength"
      ],
      "metadata": {
        "id": "DnO1Q3csuZGP"
      }
    },
    {
      "cell_type": "code",
      "source": [
        "# Define leader strength\n",
        "users_df[\"leader_strength\"] = users_df[\"followers\"] / (1 + users_df[\"following\"])\n",
        "# Sort by leader strength\n",
        "top_leader_strength = users_df.sort_values(by=\"leader_strength\", ascending=False).head(5)\n",
        "top_leader_strength_logins = \",\".join(top_leader_strength[\"login\"].tolist())\n",
        "print(\"Top 5 by leader strength:\", top_leader_strength_logins)\n"
      ],
      "metadata": {
        "colab": {
          "base_uri": "https://localhost:8080/"
        },
        "id": "Yzldj2giufA6",
        "outputId": "f53711d0-6388-44f8-d4cf-4508e67e171a"
      },
      "execution_count": null,
      "outputs": [
        {
          "output_type": "stream",
          "name": "stdout",
          "text": [
            "Top 5 by leader strength: midudev,vfarcic,spite,amix,cfenollosa\n"
          ]
        }
      ]
    },
    {
      "cell_type": "markdown",
      "source": [
        "Question 9: Correlation Between Followers and Public Repos"
      ],
      "metadata": {
        "id": "ZsOZ3WU7uju9"
      }
    },
    {
      "cell_type": "code",
      "source": [
        "from scipy.stats import pearsonr\n",
        "\n",
        "# Calculate the correlation\n",
        "corr_followers_repos, _ = pearsonr(users_df[\"followers\"], users_df[\"public_repos\"])\n",
        "print(f\"Correlation between followers and public repos: {corr_followers_repos:.3f}\")\n"
      ],
      "metadata": {
        "colab": {
          "base_uri": "https://localhost:8080/"
        },
        "id": "1xyUWv0JujFS",
        "outputId": "088c2321-68b6-4330-a4d1-c50b9bd33660"
      },
      "execution_count": null,
      "outputs": [
        {
          "output_type": "stream",
          "name": "stdout",
          "text": [
            "Correlation between followers and public repos: 0.071\n"
          ]
        }
      ]
    },
    {
      "cell_type": "markdown",
      "source": [
        "Question 10: Regression Slope of Followers on Public Repos"
      ],
      "metadata": {
        "id": "jqC-RF5Buy_1"
      }
    },
    {
      "cell_type": "code",
      "source": [
        "from scipy.stats import linregress\n",
        "\n",
        "# Perform linear regression\n",
        "slope, _, _, _, _ = linregress(users_df[\"public_repos\"], users_df[\"followers\"])\n",
        "print(f\"Regression slope of followers on public repos: {slope:.3f}\")\n"
      ],
      "metadata": {
        "colab": {
          "base_uri": "https://localhost:8080/"
        },
        "id": "rp_CCxlJu2UU",
        "outputId": "02009bcf-5d12-406f-95ec-dcdd86322430"
      },
      "execution_count": null,
      "outputs": [
        {
          "output_type": "stream",
          "name": "stdout",
          "text": [
            "Regression slope of followers on public repos: 1.027\n"
          ]
        }
      ]
    },
    {
      "cell_type": "markdown",
      "source": [
        "Question 11: Correlation Between Projects and Wiki Enabled"
      ],
      "metadata": {
        "id": "r5DqQrJau5yy"
      }
    },
    {
      "cell_type": "code",
      "source": [
        "from scipy.stats import pearsonr\n",
        "\n",
        "# Convert 'has_projects' and 'has_wiki' columns to numeric (True/False to 1/0)\n",
        "repos_df['has_projects'] = repos_df['has_projects'].astype(int)\n",
        "repos_df['has_wiki'] = repos_df['has_wiki'].astype(int)\n",
        "\n",
        "# Calculate the Pearson correlation\n",
        "corr_projects_wiki, _ = pearsonr(repos_df['has_projects'], repos_df['has_wiki'])\n",
        "\n",
        "print(f\"Correlation between having projects enabled and having wikis enabled: {corr_projects_wiki}\")\n"
      ],
      "metadata": {
        "colab": {
          "base_uri": "https://localhost:8080/"
        },
        "id": "1SOlCSitvBv2",
        "outputId": "f9eb3ed6-4731-44d2-cf06-3f48ee9127b3"
      },
      "execution_count": null,
      "outputs": [
        {
          "output_type": "stream",
          "name": "stdout",
          "text": [
            "Correlation between having projects enabled and having wikis enabled: 0.3174612492863113\n"
          ]
        }
      ]
    },
    {
      "cell_type": "markdown",
      "source": [
        "Question 12: Difference in Following Count for Hireable Users"
      ],
      "metadata": {
        "id": "VYha4ggLvIYk"
      }
    },
    {
      "cell_type": "code",
      "source": [
        "# Calculate average following for hireable and non-hireable users\n",
        "# avg_following_hireable = users_df[users_df[\"hireable\"] == True][\"following\"].mean()\n",
        "# avg_following_non_hireable = users_df[users_df[\"hireable\"] != True][\"following\"].mean()\n",
        "# following_difference = avg_following_hireable - avg_following_non_hireable\n",
        "# print(f\"Difference in following for hireable users: {following_difference:.3f}\")\n",
        "\n",
        "# Separate hireable and non-hireable (including NaN as non-hireable)\n",
        "hireable_users = users_df[users_df[\"hireable\"] == True]\n",
        "non_hireable_users = users_df[users_df[\"hireable\"] != True]\n",
        "\n",
        "# Calculate the average following count for both groups\n",
        "avg_following_hireable = hireable_users[\"following\"].mean()\n",
        "avg_following_non_hireable = non_hireable_users[\"following\"].mean()\n",
        "\n",
        "# Calculate the difference in average following\n",
        "following_difference = avg_following_hireable - avg_following_non_hireable\n",
        "print(f\"Average difference in following between hireable and non-hireable users: {following_difference:.3f}\")\n"
      ],
      "metadata": {
        "colab": {
          "base_uri": "https://localhost:8080/"
        },
        "id": "x-uIUME3vMSm",
        "outputId": "b750be0f-f201-4fbb-bdf0-ed177008f458"
      },
      "execution_count": null,
      "outputs": [
        {
          "output_type": "stream",
          "name": "stdout",
          "text": [
            "Average difference in following between hireable and non-hireable users: 294.549\n"
          ]
        }
      ]
    },
    {
      "cell_type": "markdown",
      "source": [
        "Question 13: Regression Slope of Followers on Bio Word Count"
      ],
      "metadata": {
        "id": "SiBRqdQivYHq"
      }
    },
    {
      "cell_type": "code",
      "source": [
        "from scipy.stats import linregress\n",
        "\n",
        "# Drop rows with missing bios to focus only on users with a bio\n",
        "users_with_bio_df = users_df.dropna(subset=['bio'])\n",
        "\n",
        "# Calculate word count for each bio (split by whitespace)\n",
        "users_with_bio_df['bio_word_count'] = users_with_bio_df['bio'].apply(lambda x: len(x.split()))\n",
        "\n",
        "# Perform linear regression: followers as dependent variable, bio_word_count as independent variable\n",
        "slope, _, _, _, _ = linregress(users_with_bio_df[\"bio_word_count\"], users_with_bio_df[\"followers\"])\n",
        "\n",
        "print(f\"Regression slope of followers on bio word count: {slope:.3f}\")\n"
      ],
      "metadata": {
        "colab": {
          "base_uri": "https://localhost:8080/"
        },
        "id": "rdeWV9eSvbrA",
        "outputId": "f6a667e3-836d-4742-9c61-3bcca9395976"
      },
      "execution_count": null,
      "outputs": [
        {
          "output_type": "stream",
          "name": "stdout",
          "text": [
            "Regression slope of followers on bio word count: 13.488\n"
          ]
        },
        {
          "output_type": "stream",
          "name": "stderr",
          "text": [
            "<ipython-input-7-36177986962c>:7: SettingWithCopyWarning: \n",
            "A value is trying to be set on a copy of a slice from a DataFrame.\n",
            "Try using .loc[row_indexer,col_indexer] = value instead\n",
            "\n",
            "See the caveats in the documentation: https://pandas.pydata.org/pandas-docs/stable/user_guide/indexing.html#returning-a-view-versus-a-copy\n",
            "  users_with_bio_df['bio_word_count'] = users_with_bio_df['bio'].apply(lambda x: len(x.split()))\n"
          ]
        }
      ]
    },
    {
      "cell_type": "markdown",
      "source": [
        "Question 14: Most Repositories Created on Weekends"
      ],
      "metadata": {
        "id": "RJCWwlhEvhyI"
      }
    },
    {
      "cell_type": "code",
      "source": [
        "# Convert created_at to datetime and extract day of the week (5, 6 are Sat, Sun)\n",
        "repos_df[\"created_at\"] = pd.to_datetime(repos_df[\"created_at\"])\n",
        "repos_df[\"is_weekend\"] = repos_df[\"created_at\"].dt.weekday >= 5\n",
        "# Count repositories by user on weekends\n",
        "weekend_repos_count = repos_df[repos_df[\"is_weekend\"]].groupby(\"login\").size().sort_values(ascending=False).head(5)\n",
        "weekend_top_users = \",\".join(weekend_repos_count.index.tolist())\n",
        "print(\"Top 5 users by weekend repositories:\", weekend_top_users)\n"
      ],
      "metadata": {
        "colab": {
          "base_uri": "https://localhost:8080/"
        },
        "id": "4oktRCB_vlAq",
        "outputId": "b0bacbb6-db54-4cd1-b371-0dba37f17b3b"
      },
      "execution_count": null,
      "outputs": [
        {
          "output_type": "stream",
          "name": "stdout",
          "text": [
            "Top 5 users by weekend repositories: nilportugues,kinow,ajsb85,vfarcic,wlsf82\n"
          ]
        }
      ]
    },
    {
      "cell_type": "markdown",
      "source": [
        "Question 15: Email Sharing Difference Between Hireable and Non-Hireable"
      ],
      "metadata": {
        "id": "ZLax42L_vrnm"
      }
    },
    {
      "cell_type": "code",
      "source": [
        "# Set NaN values in hireable to False and email to None\n",
        "users_df[\"hireable\"] = users_df[\"hireable\"].fillna(False)\n",
        "users_df[\"email\"] = users_df[\"email\"].fillna(\"\")\n",
        "\n",
        "# Calculate the fraction of users with email addresses for hireable and non-hireable users\n",
        "email_hireable_fraction = users_df[users_df[\"hireable\"] == True][\"email\"].apply(lambda x: x != \"\").mean()\n",
        "email_non_hireable_fraction = users_df[users_df[\"hireable\"] == False][\"email\"].apply(lambda x: x != \"\").mean()\n",
        "\n",
        "# Calculate the difference\n",
        "email_sharing_difference = email_hireable_fraction - email_non_hireable_fraction\n",
        "print(f\"Difference in email sharing between hireable and non-hireable users: {email_sharing_difference}\")\n",
        "\n",
        "\n"
      ],
      "metadata": {
        "colab": {
          "base_uri": "https://localhost:8080/"
        },
        "id": "9aIgW01cvvJ6",
        "outputId": "c7c8d197-7930-4129-8b75-4032426d8846"
      },
      "execution_count": null,
      "outputs": [
        {
          "output_type": "stream",
          "name": "stdout",
          "text": [
            "Difference in email sharing between hireable and non-hireable users: 0.09537037037037038\n"
          ]
        }
      ]
    },
    {
      "cell_type": "markdown",
      "source": [
        "Question 16: Most Common Surname"
      ],
      "metadata": {
        "id": "yoY0SEBnv2s_"
      }
    },
    {
      "cell_type": "code",
      "source": [
        "# Filter out missing names, split by whitespace, and extract the last word\n",
        "users_df[\"surname\"] = users_df[\"name\"].dropna().apply(lambda x: x.strip().split()[-1])\n",
        "\n",
        "# Find the most common surname(s)\n",
        "most_common_surnames = users_df[\"surname\"].value_counts()\n",
        "max_count = most_common_surnames.max()\n",
        "top_surnames = most_common_surnames[most_common_surnames == max_count].index.tolist()\n",
        "top_surnames_sorted = \",\".join(sorted(top_surnames))\n",
        "\n",
        "print(\"Most common surname(s):\", top_surnames_sorted)\n"
      ],
      "metadata": {
        "colab": {
          "base_uri": "https://localhost:8080/"
        },
        "id": "KVcpKqz6v6ls",
        "outputId": "b8c7844b-2da9-4a43-c117-fb7bed35323a"
      },
      "execution_count": null,
      "outputs": [
        {
          "output_type": "stream",
          "name": "stdout",
          "text": [
            "Most common surname(s): Martínez,Ortiz\n"
          ]
        }
      ]
    }
  ]
}